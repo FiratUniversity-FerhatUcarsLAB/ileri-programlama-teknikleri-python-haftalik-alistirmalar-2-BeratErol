{
 "cells": [
  {
   "cell_type": "markdown",
   "metadata": {},
   "source": [
    "# YMH220 - İleri Programlama Teknikleri\n",
    "## Python Egzersizleri\n",
    "\n",
    "### İsim:Berat EROL\n",
    "### Öğrenci No:235541010\n",
    "### Tarih:12.04.2025\n"
   ]
  },
  {
   "cell_type": "markdown",
   "metadata": {},
   "source": [
    "# Soru 1\n",
    "### Verilen bir tam sayının asal sayı olup olmadığını belirleyen `asal_mi` isimli Python fonksiyonunu yazınız."
   ]
  },
  {
   "cell_type": "code",
   "execution_count": null,
   "metadata": {},
   "outputs": [],
   "source": [
    "# Bir sayının asal olup olmadığını kontrol eden fonksiyon\n",
    "def asal_mi(n):\n",
    "    if n < 2:\n",
    "        return False\n",
    "    for i in range(2, int(n ** 0.5) + 1):\n",
    "        if n % i == 0:\n",
    "            return False\n",
    "    return True\n",
    "\n",
    "# Testler\n",
    "print(asal_mi(11))  # Beklenen çıktı: True\n",
    "print(asal_mi(15))  # Beklenen çıktı: False"
   ]
  },
  {
   "cell_type": "markdown",
   "metadata": {},
   "source": [
    "# Soru 2\n",
    "### İki tam sayının en büyük ortak bölenini (EBOB) Öklid algoritması ile hesaplayan `ebob` isimli Python fonksiyonunu yazınız."
   ]
  },
  {
   "cell_type": "code",
   "execution_count": null,
   "metadata": {},
   "outputs": [],
   "source": [
    "# Öklid algoritması ile EBOB hesaplama\n",
    "def ebob(a, b):\n",
    "    while b != 0:\n",
    "        a, b = b, a % b\n",
    "    return a\n",
    "\n",
    "# Testler\n",
    "print(ebob(48, 18))  # Beklenen çıktı: 6\n",
    "print(ebob(100, 25))  # Beklenen çıktı: 25"
   ]
  },
  {
   "cell_type": "markdown",
   "metadata": {},
   "source": [
    "# Soru 3\n",
    "### Verilen bir metindeki sesli harflerin (a, e, ı, i, o, ö, u, ü) sayısını hesaplayarak döndüren `sesli_harf_sayisi` fonksiyonunu yazınız."
   ]
  },
  {
   "cell_type": "code",
   "execution_count": null,
   "metadata": {},
   "outputs": [],
   "source": [
    "# Metindeki sesli harf sayısını hesaplayan fonksiyon\n",
    "def sesli_harf_sayisi(metin):\n",
    "    sesliler = \"aeıioöuü\"\n",
    "    sayac = 0\n",
    "    for harf in metin:\n",
    "        if harf.lower() in sesliler:\n",
    "            sayac += 1\n",
    "    return sayac\n",
    "\n",
    "# Testler\n",
    "print(sesli_harf_sayisi(\"programlama\"))  # Beklenen çıktı: 4\n",
    "print(sesli_harf_sayisi(\"algoritma\"))    # Beklenen çıktı: 4"
   ]
  },
  {
   "cell_type": "markdown",
   "metadata": {},
   "source": [
    "# Soru 4\n",
    "### İki sıralı listeyi tek bir sıralı liste olarak birleştiren ve hazır sıralama fonksiyonlarını kullanmayan `sirali_listeleri_birlestir` fonksiyonunu yazınız."
   ]
  },
  {
   "cell_type": "code",
   "execution_count": null,
   "metadata": {},
   "outputs": [],
   "source": [
    "# Sıralı iki listeyi birleştiren fonksiyon\n",
    "def sirali_listeleri_birlestir(liste1, liste2):\n",
    "    birlesmis = []\n",
    "    i = j = 0\n",
    "    while i < len(liste1) and j < len(liste2):\n",
    "        if liste1[i] < liste2[j]:\n",
    "            birlesmis.append(liste1[i])\n",
    "            i += 1\n",
    "        else:\n",
    "            birlesmis.append(liste2[j])\n",
    "            j += 1\n",
    "    birlesmis.extend(liste1[i:])\n",
    "    birlesmis.extend(liste2[j:])\n",
    "    return birlesmis\n",
    "\n",
    "# Testler\n",
    "print(sirali_listeleri_birlestir([1, 3, 5], [2, 4, 6]))  # Beklenen çıktı: [1, 2, 3, 4, 5, 6]\n",
    "print(sirali_listeleri_birlestir([-3, 0, 7], [-1, 4, 10]))  # Beklenen çıktı: [-3, -1, 0, 4, 7, 10]"
   ]
  },
  {
   "cell_type": "markdown",
   "metadata": {},
   "source": [
    "# Soru 5\n",
    "### Sıralı bir listede ikili arama algoritmasını kullanarak verilen elemanın indeksini bulan (eğer eleman listede yoksa -1 dönen) `ikili_arama` fonksiyonunu yazınız."
   ]
  },
  {
   "cell_type": "code",
   "execution_count": null,
   "metadata": {},
   "outputs": [],
   "source": [
    "# İkili arama algoritmasıyla eleman arama\n",
    "def ikili_arama(liste, hedef):\n",
    "    bas = 0\n",
    "    son = len(liste) - 1\n",
    "    while bas <= son:\n",
    "        orta = (bas + son) // 2\n",
    "        if liste[orta] == hedef:\n",
    "            return orta\n",
    "        elif hedef < liste[orta]:\n",
    "            son = orta - 1\n",
    "        else:\n",
    "            bas = orta + 1\n",
    "    return -1\n",
    "\n",
    "# Testler\n",
    "print(ikili_arama([1, 3, 5, 7, 9, 11], 7))  # Beklenen çıktı: 3\n",
    "print(ikili_arama([2, 4, 6, 8, 10], 5))     # Beklenen çıktı: -1"
   ]
  }
 ],
 "metadata": {
  "kernelspec": {
   "display_name": "Python 3",
   "language": "python",
   "name": "python3"
  },
  "language_info": {
   "name": "python",
   "version": ""
  }
 },
 "nbformat": 4,
 "nbformat_minor": 5
}
